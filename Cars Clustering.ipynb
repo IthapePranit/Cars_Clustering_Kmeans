{
 "cells": [
  {
   "cell_type": "markdown",
   "id": "6a76d350",
   "metadata": {},
   "source": [
    "# In clustering project we dont have Y column we perform everything on x column only"
   ]
  },
  {
   "cell_type": "markdown",
   "id": "14b668e4",
   "metadata": {},
   "source": [
    "## Read dataset"
   ]
  },
  {
   "cell_type": "code",
   "execution_count": 1,
   "id": "d8020975",
   "metadata": {},
   "outputs": [],
   "source": [
    "import pandas as pd\n",
    "A = pd.read_csv(r\"C:\\Users\\Pranit\\OneDrive\\Desktop\\AI\\AI\\Cars93.csv\")\n",
    "from warnings import filterwarnings\n",
    "filterwarnings(\"ignore\")"
   ]
  },
  {
   "cell_type": "markdown",
   "id": "1f111b01",
   "metadata": {},
   "source": [
    "### As we know mainly our customers keep in mind price and mileage while buying a car"
   ]
  },
  {
   "cell_type": "code",
   "execution_count": 2,
   "id": "c145143e",
   "metadata": {},
   "outputs": [
    {
     "data": {
      "text/html": [
       "<div>\n",
       "<style scoped>\n",
       "    .dataframe tbody tr th:only-of-type {\n",
       "        vertical-align: middle;\n",
       "    }\n",
       "\n",
       "    .dataframe tbody tr th {\n",
       "        vertical-align: top;\n",
       "    }\n",
       "\n",
       "    .dataframe thead th {\n",
       "        text-align: right;\n",
       "    }\n",
       "</style>\n",
       "<table border=\"1\" class=\"dataframe\">\n",
       "  <thead>\n",
       "    <tr style=\"text-align: right;\">\n",
       "      <th></th>\n",
       "      <th>Price</th>\n",
       "      <th>MPG.city</th>\n",
       "    </tr>\n",
       "  </thead>\n",
       "  <tbody>\n",
       "    <tr>\n",
       "      <th>0</th>\n",
       "      <td>0.155963</td>\n",
       "      <td>0.322581</td>\n",
       "    </tr>\n",
       "    <tr>\n",
       "      <th>1</th>\n",
       "      <td>0.486239</td>\n",
       "      <td>0.096774</td>\n",
       "    </tr>\n",
       "    <tr>\n",
       "      <th>2</th>\n",
       "      <td>0.398165</td>\n",
       "      <td>0.161290</td>\n",
       "    </tr>\n",
       "    <tr>\n",
       "      <th>3</th>\n",
       "      <td>0.555963</td>\n",
       "      <td>0.129032</td>\n",
       "    </tr>\n",
       "    <tr>\n",
       "      <th>4</th>\n",
       "      <td>0.414679</td>\n",
       "      <td>0.225806</td>\n",
       "    </tr>\n",
       "  </tbody>\n",
       "</table>\n",
       "</div>"
      ],
      "text/plain": [
       "      Price  MPG.city\n",
       "0  0.155963  0.322581\n",
       "1  0.486239  0.096774\n",
       "2  0.398165  0.161290\n",
       "3  0.555963  0.129032\n",
       "4  0.414679  0.225806"
      ]
     },
     "execution_count": 2,
     "metadata": {},
     "output_type": "execute_result"
    }
   ],
   "source": [
    "B = A[[\"Price\",\"MPG.city\"]]\n",
    "from sklearn.preprocessing import MinMaxScaler\n",
    "mm = MinMaxScaler()\n",
    "C = pd.DataFrame(mm.fit_transform(B),columns=[\"Price\",\"MPG.city\"])\n",
    "C.head()"
   ]
  },
  {
   "cell_type": "markdown",
   "id": "eccf2de1",
   "metadata": {},
   "source": [
    "###  Select the number K to decide the number of clusters."
   ]
  },
  {
   "cell_type": "code",
   "execution_count": 3,
   "id": "ce9892e5",
   "metadata": {},
   "outputs": [
    {
     "data": {
      "text/plain": [
       "array([0, 1, 1, 1, 1, 0, 0, 1, 1, 1, 1, 0, 0, 0, 0, 0, 0, 0, 1, 0, 0, 1,\n",
       "       2, 0, 0, 0, 0, 1, 2, 0, 2, 0, 0, 0, 0, 0, 0, 0, 2, 2, 0, 2, 0, 2,\n",
       "       0, 2, 0, 1, 1, 1, 1, 1, 2, 2, 0, 0, 1, 1, 1, 0, 0, 2, 1, 2, 0, 0,\n",
       "       0, 0, 0, 0, 0, 0, 2, 0, 0, 0, 0, 1, 2, 2, 0, 0, 2, 2, 0, 0, 0, 0,\n",
       "       0, 0, 0, 0, 1])"
      ]
     },
     "execution_count": 3,
     "metadata": {},
     "output_type": "execute_result"
    }
   ],
   "source": [
    "from sklearn.cluster import KMeans\n",
    "km = KMeans(n_clusters=3)\n",
    "model = km.fit(C)\n",
    "model.labels_"
   ]
  },
  {
   "cell_type": "markdown",
   "id": "b48ba862",
   "metadata": {},
   "source": [
    "### Plotting to see which points belong to which clusters"
   ]
  },
  {
   "cell_type": "code",
   "execution_count": 4,
   "id": "a940b35c",
   "metadata": {},
   "outputs": [
    {
     "data": {
      "text/plain": [
       "<matplotlib.collections.PathCollection at 0x1bd02429ca0>"
      ]
     },
     "execution_count": 4,
     "metadata": {},
     "output_type": "execute_result"
    },
    {
     "data": {
      "image/png": "[encoded data removed]",
      "text/plain": [
       "<Figure size 432x288 with 1 Axes>"
      ]
     },
     "metadata": {
      "needs_background": "light"
     },
     "output_type": "display_data"
    }
   ],
   "source": [
    "import matplotlib.pyplot as plt\n",
    "plt.scatter(A.Price,A['MPG.city'],c=model.labels_)"
   ]
  },
  {
   "cell_type": "code",
   "execution_count": 5,
   "id": "43ea5577",
   "metadata": {},
   "outputs": [],
   "source": [
    "B['clusters']=model.labels_\n",
    "B['Make']=A.Make"
   ]
  },
  {
   "cell_type": "code",
   "execution_count": 6,
   "id": "0e43f8c6",
   "metadata": {},
   "outputs": [
    {
     "data": {
      "text/html": [
       "<div>\n",
       "<style scoped>\n",
       "    .dataframe tbody tr th:only-of-type {\n",
       "        vertical-align: middle;\n",
       "    }\n",
       "\n",
       "    .dataframe tbody tr th {\n",
       "        vertical-align: top;\n",
       "    }\n",
       "\n",
       "    .dataframe thead th {\n",
       "        text-align: right;\n",
       "    }\n",
       "</style>\n",
       "<table border=\"1\" class=\"dataframe\">\n",
       "  <thead>\n",
       "    <tr style=\"text-align: right;\">\n",
       "      <th></th>\n",
       "      <th>Price</th>\n",
       "      <th>MPG.city</th>\n",
       "      <th>clusters</th>\n",
       "      <th>Make</th>\n",
       "    </tr>\n",
       "  </thead>\n",
       "  <tbody>\n",
       "    <tr>\n",
       "      <th>0</th>\n",
       "      <td>15.9</td>\n",
       "      <td>25</td>\n",
       "      <td>0</td>\n",
       "      <td>Acura Integra</td>\n",
       "    </tr>\n",
       "    <tr>\n",
       "      <th>1</th>\n",
       "      <td>33.9</td>\n",
       "      <td>18</td>\n",
       "      <td>1</td>\n",
       "      <td>Acura Legend</td>\n",
       "    </tr>\n",
       "    <tr>\n",
       "      <th>2</th>\n",
       "      <td>29.1</td>\n",
       "      <td>20</td>\n",
       "      <td>1</td>\n",
       "      <td>Audi 90</td>\n",
       "    </tr>\n",
       "    <tr>\n",
       "      <th>3</th>\n",
       "      <td>37.7</td>\n",
       "      <td>19</td>\n",
       "      <td>1</td>\n",
       "      <td>Audi 100</td>\n",
       "    </tr>\n",
       "    <tr>\n",
       "      <th>4</th>\n",
       "      <td>30.0</td>\n",
       "      <td>22</td>\n",
       "      <td>1</td>\n",
       "      <td>BMW 535i</td>\n",
       "    </tr>\n",
       "    <tr>\n",
       "      <th>...</th>\n",
       "      <td>...</td>\n",
       "      <td>...</td>\n",
       "      <td>...</td>\n",
       "      <td>...</td>\n",
       "    </tr>\n",
       "    <tr>\n",
       "      <th>88</th>\n",
       "      <td>19.7</td>\n",
       "      <td>17</td>\n",
       "      <td>0</td>\n",
       "      <td>Volkswagen Eurovan</td>\n",
       "    </tr>\n",
       "    <tr>\n",
       "      <th>89</th>\n",
       "      <td>20.0</td>\n",
       "      <td>21</td>\n",
       "      <td>0</td>\n",
       "      <td>Volkswagen Passat</td>\n",
       "    </tr>\n",
       "    <tr>\n",
       "      <th>90</th>\n",
       "      <td>23.3</td>\n",
       "      <td>18</td>\n",
       "      <td>0</td>\n",
       "      <td>Volkswagen Corrado</td>\n",
       "    </tr>\n",
       "    <tr>\n",
       "      <th>91</th>\n",
       "      <td>22.7</td>\n",
       "      <td>21</td>\n",
       "      <td>0</td>\n",
       "      <td>Volvo 240</td>\n",
       "    </tr>\n",
       "    <tr>\n",
       "      <th>92</th>\n",
       "      <td>26.7</td>\n",
       "      <td>20</td>\n",
       "      <td>1</td>\n",
       "      <td>Volvo 850</td>\n",
       "    </tr>\n",
       "  </tbody>\n",
       "</table>\n",
       "<p>93 rows × 4 columns</p>\n",
       "</div>"
      ],
      "text/plain": [
       "    Price  MPG.city  clusters                Make\n",
       "0    15.9        25         0       Acura Integra\n",
       "1    33.9        18         1        Acura Legend\n",
       "2    29.1        20         1             Audi 90\n",
       "3    37.7        19         1            Audi 100\n",
       "4    30.0        22         1            BMW 535i\n",
       "..    ...       ...       ...                 ...\n",
       "88   19.7        17         0  Volkswagen Eurovan\n",
       "89   20.0        21         0   Volkswagen Passat\n",
       "90   23.3        18         0  Volkswagen Corrado\n",
       "91   22.7        21         0           Volvo 240\n",
       "92   26.7        20         1           Volvo 850\n",
       "\n",
       "[93 rows x 4 columns]"
      ]
     },
     "execution_count": 6,
     "metadata": {},
     "output_type": "execute_result"
    }
   ],
   "source": [
    "B"
   ]
  },
  {
   "cell_type": "markdown",
   "id": "f9cb2b64",
   "metadata": {},
   "source": [
    "### Now we will give the input as car names and see which suggestions we get"
   ]
  },
  {
   "cell_type": "code",
   "execution_count": 7,
   "id": "236f4ed5",
   "metadata": {},
   "outputs": [
    {
     "name": "stdout",
     "output_type": "stream",
     "text": [
      "Enter car name: Volkswagen Eurovan\n",
      "Your recommendations:\n",
      "\n",
      " ['Acura Integra', 'Buick Century', 'Buick LeSabre', 'Chevrolet Cavalier', 'Chevrolet Corsica', 'Chevrolet Camaro', 'Chevrolet Lumina', 'Chevrolet Lumina_APV', 'Chevrolet Astro', 'Chevrolet Caprice', 'Chrylser Concorde', 'Chrysler LeBaron', 'Dodge Shadow', 'Dodge Spirit', 'Dodge Caravan', 'Dodge Dynasty', 'Eagle Vision', 'Ford Escort', 'Ford Tempo', 'Ford Mustang', 'Ford Probe', 'Ford Aerostar', 'Ford Taurus', 'Ford Crown_Victoria', 'Honda Prelude', 'Honda Accord', 'Hyundai Elantra', 'Hyundai Sonata', 'Mazda 626', 'Mazda MPV', 'Mercury Capri', 'Mercury Cougar', 'Nissan Altima', 'Nissan Quest', 'Nissan Maxima', 'Oldsmobile Achieva', 'Oldsmobile Cutlass_Ciera', 'Oldsmobile Silhouette', 'Oldsmobile Eighty-Eight', 'Plymouth Laser', 'Pontiac Sunbird', 'Pontiac Firebird', 'Pontiac Grand_Prix', 'Pontiac Bonneville', 'Subaru Loyale', 'Subaru Legacy', 'Toyota Celica', 'Toyota Camry', 'Toyota Previa', 'Volkswagen Fox', 'Volkswagen Passat', 'Volkswagen Corrado', 'Volvo 240']\n"
     ]
    }
   ],
   "source": [
    "q = input(\"Enter car name: \")\n",
    "cc = int(B[B.Make == q].clusters)\n",
    "print(\"Your recommendations:\\n\\n\",list(B[(B.clusters == cc)&(B.Make!=q)].Make))"
   ]
  },
  {
   "cell_type": "markdown",
   "id": "45d72948",
   "metadata": {},
   "source": [
    "### How many clusters are best clusters we will find with WCSS"
   ]
  },
  {
   "cell_type": "code",
   "execution_count": 8,
   "id": "c7bf4bce",
   "metadata": {},
   "outputs": [],
   "source": [
    "k = []\n",
    "WCSS = []\n",
    "for i in range(2,20):\n",
    "    km = KMeans(n_clusters=i)\n",
    "    model = km.fit(C)\n",
    "    WCSS.append(model.inertia_)\n",
    "    k.append(i)"
   ]
  },
  {
   "cell_type": "code",
   "execution_count": 9,
   "id": "43a57ce6",
   "metadata": {},
   "outputs": [
    {
     "data": {
      "text/plain": [
       "[2, 3, 4, 5, 6, 7, 8, 9, 10, 11, 12, 13, 14, 15, 16, 17, 18, 19]"
      ]
     },
     "execution_count": 9,
     "metadata": {},
     "output_type": "execute_result"
    }
   ],
   "source": [
    "k"
   ]
  },
  {
   "cell_type": "code",
   "execution_count": 10,
   "id": "93cdd275",
   "metadata": {},
   "outputs": [
    {
     "data": {
      "text/plain": [
       "[2.984556204508493,\n",
       " 1.7604339512829654,\n",
       " 1.2111248917250905,\n",
       " 0.8123445154970707,\n",
       " 0.5492495025231653,\n",
       " 0.44071054572481305,\n",
       " 0.3662647775622462,\n",
       " 0.32012324021989985,\n",
       " 0.2766743422650475,\n",
       " 0.25294114830970216,\n",
       " 0.2215526923346274,\n",
       " 0.19868238346090514,\n",
       " 0.17906183495285313,\n",
       " 0.15145941054432052,\n",
       " 0.13811080546044963,\n",
       " 0.12761996262472608,\n",
       " 0.11225435483759057,\n",
       " 0.10526792971799806]"
      ]
     },
     "execution_count": 10,
     "metadata": {},
     "output_type": "execute_result"
    }
   ],
   "source": [
    "WCSS"
   ]
  },
  {
   "cell_type": "code",
   "execution_count": 11,
   "id": "10be0e9c",
   "metadata": {},
   "outputs": [
    {
     "data": {
      "text/plain": [
       "[<matplotlib.lines.Line2D at 0x1bd028f4640>]"
      ]
     },
     "execution_count": 11,
     "metadata": {},
     "output_type": "execute_result"
    },
    {
     "data": {
      "image/png": "[encoded data removed]",
      "text/plain": [
       "<Figure size 432x288 with 1 Axes>"
      ]
     },
     "metadata": {
      "needs_background": "light"
     },
     "output_type": "display_data"
    }
   ],
   "source": [
    "import matplotlib.pyplot as plt                 # plotting elbow curve\n",
    "plt.scatter(k,WCSS,c=\"blue\")\n",
    "plt.plot(k,WCSS,c=\"red\")"
   ]
  },
  {
   "cell_type": "markdown",
   "id": "9afa9f64",
   "metadata": {},
   "source": [
    "### From the elbow curve we can say that 6 is the best no of clusters"
   ]
  },
  {
   "cell_type": "markdown",
   "id": "de01872e",
   "metadata": {},
   "source": [
    "# Final model"
   ]
  },
  {
   "cell_type": "code",
   "execution_count": 12,
   "id": "1be4ce9b",
   "metadata": {},
   "outputs": [
    {
     "data": {
      "text/plain": [
       "array([1, 0, 0, 0, 0, 1, 2, 2, 0, 0, 0, 1, 1, 2, 1, 2, 2, 2, 0, 2, 1, 0,\n",
       "       4, 1, 1, 2, 1, 0, 4, 2, 4, 1, 1, 1, 1, 2, 2, 2, 5, 4, 1, 5, 1, 4,\n",
       "       1, 1, 1, 3, 0, 0, 0, 0, 4, 4, 1, 2, 0, 0, 3, 1, 2, 4, 0, 4, 1, 2,\n",
       "       2, 1, 1, 2, 2, 1, 4, 1, 2, 2, 2, 0, 4, 4, 1, 1, 5, 4, 1, 1, 2, 1,\n",
       "       2, 2, 2, 2, 0])"
      ]
     },
     "execution_count": 12,
     "metadata": {},
     "output_type": "execute_result"
    }
   ],
   "source": [
    "km = KMeans(n_clusters=6)\n",
    "model = km.fit(C)\n",
    "model.labels_"
   ]
  },
  {
   "cell_type": "code",
   "execution_count": 13,
   "id": "23c16e14",
   "metadata": {},
   "outputs": [],
   "source": [
    "B['clusters']=model.labels_\n",
    "B['Make']=A.Make"
   ]
  },
  {
   "cell_type": "code",
   "execution_count": 14,
   "id": "d6e9e987",
   "metadata": {},
   "outputs": [
    {
     "name": "stdout",
     "output_type": "stream",
     "text": [
      "Enter car name: Volkswagen Eurovan\n",
      "Your recommendations:\n",
      "\n",
      " ['Buick LeSabre', 'Buick Roadmaster', 'Chevrolet Camaro', 'Chevrolet Lumina_APV', 'Chevrolet Astro', 'Chevrolet Caprice', 'Chrylser Concorde', 'Dodge Caravan', 'Eagle Vision', 'Ford Aerostar', 'Ford Taurus', 'Ford Crown_Victoria', 'Mazda MPV', 'Mercury Cougar', 'Nissan Quest', 'Nissan Maxima', 'Oldsmobile Silhouette', 'Oldsmobile Eighty-Eight', 'Pontiac Firebird', 'Pontiac Grand_Prix', 'Pontiac Bonneville', 'Toyota Previa', 'Volkswagen Passat', 'Volkswagen Corrado', 'Volvo 240']\n"
     ]
    }
   ],
   "source": [
    "q = input(\"Enter car name: \")\n",
    "cc = int(B[B.Make == q].clusters)\n",
    "print(\"Your recommendations:\\n\\n\",list(B[(B.clusters == cc)&(B.Make!=q)].Make))"
   ]
  },
  {
   "cell_type": "markdown",
   "id": "49916057",
   "metadata": {},
   "source": [
    "### Now we see more correct recommendations."
   ]
  },
  {
   "cell_type": "code",
   "execution_count": null,
   "id": "235cdbd1",
   "metadata": {},
   "outputs": [],
   "source": []
  }
 ],
 "metadata": {
  "kernelspec": {
   "display_name": "Python 3 (ipykernel)",
   "language": "python",
   "name": "python3"
  },
  "language_info": {
   "codemirror_mode": {
    "name": "ipython",
    "version": 3
   },
   "file_extension": ".py",
   "mimetype": "text/x-python",
   "name": "python",
   "nbconvert_exporter": "python",
   "pygments_lexer": "ipython3",
   "version": "3.9.12"
  }
 },
 "nbformat": 4,
 "nbformat_minor": 5
}
